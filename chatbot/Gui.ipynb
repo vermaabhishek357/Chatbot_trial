{
 "cells": [
  {
   "cell_type": "markdown",
   "id": "ac99dedd",
   "metadata": {},
   "source": [
    "Create GUI for chatbot"
   ]
  },
  {
   "cell_type": "code",
   "execution_count": 126,
   "id": "b956516b",
   "metadata": {},
   "outputs": [],
   "source": [
    "import tkinter\n",
    "from tkinter import *\n",
    "from keras.models import load_model\n",
    "import nltk\n",
    "from nltk.stem import WordNetLemmatizer\n",
    "import json\n",
    "import pickle\n",
    "import random\n",
    "import numpy as np"
   ]
  },
  {
   "cell_type": "code",
   "execution_count": 127,
   "id": "ba9936e2",
   "metadata": {},
   "outputs": [],
   "source": [
    "data_file = open('intents.json').read()\n",
    "intents = json.loads(data_file)\n",
    "model = load_model('chatbot_model.h5')\n",
    "words = pickle.load(open('words.pkl', 'rb'))\n",
    "classes = pickle.load(open('classes.pkl', 'rb'))"
   ]
  },
  {
   "cell_type": "code",
   "execution_count": 128,
   "id": "24c37fa7",
   "metadata": {},
   "outputs": [],
   "source": [
    "lemmatizer = WordNetLemmatizer()"
   ]
  },
  {
   "cell_type": "code",
   "execution_count": 129,
   "id": "fdfdc26b",
   "metadata": {},
   "outputs": [],
   "source": [
    "def bow(sentence):\n",
    "    sentence_words = nltk.word_tokenize(sentence)\n",
    "    sentence_words = [lemmatizer.lemmatize(word.lower()) for word in sentence_words]\n",
    "    bag = [0]*len(words)\n",
    "    for s in sentence_words:\n",
    "        for i, w in enumerate(words):\n",
    "            if w == s:\n",
    "                bag[i]=1\n",
    "    return (np.array(bag))"
   ]
  },
  {
   "cell_type": "code",
   "execution_count": 130,
   "id": "177a0f24",
   "metadata": {},
   "outputs": [],
   "source": [
    "def predict_class(sentence):\n",
    "    sentence_bag = bow(sentence)\n",
    "    res = model.predict(np.array([sentence_bag]))[0]\n",
    "    ERROR_THRESHOLD = 0.25\n",
    "    results = [[i, r] for i,r in enumerate(res) if r > ERROR_THRESHOLD]\n",
    "    #sort by probability\n",
    "    results.sort(key= lambda x: x[1], reverse = True)\n",
    "    return_list = []\n",
    "    for r in results:\n",
    "        return_list.append({'intent':classes[r[0]], 'probability':str(r[1])})\n",
    "    return return_list"
   ]
  },
  {
   "cell_type": "code",
   "execution_count": 131,
   "id": "d0b355d2",
   "metadata": {},
   "outputs": [],
   "source": [
    "def getResponse(ints):\n",
    "    tag = ints[0]['intent']\n",
    "    list_of_intents = intents['intents']\n",
    "    for i in list_of_intents:\n",
    "        if (i['tag']==tag):\n",
    "           result = random.choice(i['responses'])\n",
    "           break\n",
    "    return result"
   ]
  },
  {
   "cell_type": "code",
   "execution_count": 132,
   "id": "b540e614",
   "metadata": {},
   "outputs": [],
   "source": [
    "def chatbot_response(msg):\n",
    "    ints = predict_class(msg)\n",
    "    res = getResponse(ints)\n",
    "    return res"
   ]
  },
  {
   "cell_type": "code",
   "execution_count": 133,
   "id": "a9529bcf",
   "metadata": {},
   "outputs": [],
   "source": [
    "def send():\n",
    "    msg = TextEntryBox.get(\"1.0\", 'end-1c').strip()\n",
    "    TextEntryBox.delete('1.0', 'end')\n",
    "    \n",
    "    if msg!='':\n",
    "        ChatHistory.config(state = NORMAL)\n",
    "        ChatHistory.insert('end', \"You: \" + msg + \"\\n\\n\")\n",
    "        \n",
    "        res = chatbot_response(msg)\n",
    "        ChatHistory.insert('end', \"Bot: \" + res)\n",
    "        ChatHistory.config(state = DISABLED)\n",
    "        ChatHistory.yview('end')"
   ]
  },
  {
   "cell_type": "code",
   "execution_count": 134,
   "id": "06da5a4e",
   "metadata": {},
   "outputs": [
    {
     "name": "stdout",
     "output_type": "stream",
     "text": [
      "WARNING:tensorflow:5 out of the last 16 calls to <function Model.make_predict_function.<locals>.predict_function at 0x7f17f63d5e60> triggered tf.function retracing. Tracing is expensive and the excessive number of tracings could be due to (1) creating @tf.function repeatedly in a loop, (2) passing tensors with different shapes, (3) passing Python objects instead of tensors. For (1), please define your @tf.function outside of the loop. For (2), @tf.function has experimental_relax_shapes=True option that relaxes argument shapes that can avoid unnecessary retracing. For (3), please refer to https://www.tensorflow.org/guide/function#controlling_retracing and https://www.tensorflow.org/api_docs/python/tf/function for  more details.\n"
     ]
    }
   ],
   "source": [
    "#create base dialog box\n",
    "base = Tk()\n",
    "base.title(\"BigB\")\n",
    "base.geometry(\"400x500\")\n",
    "base.resizable(width=False, height=False)\n",
    "\n",
    "\n",
    "#chat history view\n",
    "ChatHistory = Text(base, bd=0, bg='white', font ='Arial')\n",
    "ChatHistory.config(state = DISABLED)\n",
    "\n",
    "SendButton = Button(base, font=('Arial', 12, 'bold'), text = \"send\", bg=\"#dfdfdf\", \n",
    "                    activebackground = \"#3e3e3e\", fg = \"#ffffff\", command = send)\n",
    "\n",
    "TextEntryBox = Text(base, bd=0, bg='white', font='Arial')\n",
    "\n",
    "ChatHistory.place(x=6, y=6, height = 386, width = 386)\n",
    "TextEntryBox.place(x = 6, y = 400, height = 80, width = 265)\n",
    "SendButton.place(x = 268, y = 400, height = 80, width = 125)\n",
    "\n",
    "base.mainloop()"
   ]
  },
  {
   "cell_type": "code",
   "execution_count": null,
   "id": "ca9900ca",
   "metadata": {},
   "outputs": [],
   "source": []
  },
  {
   "cell_type": "code",
   "execution_count": null,
   "id": "52597230",
   "metadata": {},
   "outputs": [],
   "source": []
  },
  {
   "cell_type": "code",
   "execution_count": null,
   "id": "b60717b8",
   "metadata": {},
   "outputs": [],
   "source": []
  }
 ],
 "metadata": {
  "kernelspec": {
   "display_name": "Python 3 (ipykernel)",
   "language": "python",
   "name": "python3"
  },
  "language_info": {
   "codemirror_mode": {
    "name": "ipython",
    "version": 3
   },
   "file_extension": ".py",
   "mimetype": "text/x-python",
   "name": "python",
   "nbconvert_exporter": "python",
   "pygments_lexer": "ipython3",
   "version": "3.7.11"
  }
 },
 "nbformat": 4,
 "nbformat_minor": 5
}
